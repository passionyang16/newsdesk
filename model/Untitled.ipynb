{
 "cells": [
  {
   "cell_type": "code",
   "execution_count": 10,
   "metadata": {},
   "outputs": [],
   "source": [
    "from tool.preprocess import Preprocess\n",
    "from tool.s3_connect import S3_connector\n",
    "from textrank import run_textrank\n",
    "import pandas as pd\n",
    "from wordToVector import WordToVector\n",
    "from tqdm import tqdm\n",
    "from database.db import *"
   ]
  },
  {
   "cell_type": "code",
   "execution_count": 11,
   "metadata": {},
   "outputs": [],
   "source": [
    "s3_connector = S3_connector()\n",
    "run = run_textrank.RunTextRank()\n",
    "keys = run.key_extractor()\n",
    "w = WordToVector()"
   ]
  },
  {
   "cell_type": "code",
   "execution_count": 12,
   "metadata": {},
   "outputs": [],
   "source": [
    "ids = get_preprocessed_news_ids()"
   ]
  },
  {
   "cell_type": "code",
   "execution_count": 18,
   "metadata": {},
   "outputs": [],
   "source": [
    "ids = ids[0:20]"
   ]
  },
  {
   "cell_type": "code",
   "execution_count": 14,
   "metadata": {},
   "outputs": [],
   "source": [
    "vectors = []\n",
    "key_sentence = []\n",
    "\n",
    "kyfor i, j, k in ids:\n",
    "    vectors.append(w.vectorize_word_list(keyword[1:-1].split(\",\")))\n",
    "    "
   ]
  },
  {
   "cell_type": "code",
   "execution_count": 16,
   "metadata": {},
   "outputs": [
    {
     "data": {
      "text/plain": [
       "20"
      ]
     },
     "execution_count": 16,
     "metadata": {},
     "output_type": "execute_result"
    }
   ],
   "source": [
    "len(vectors)"
   ]
  },
  {
   "cell_type": "code",
   "execution_count": 20,
   "metadata": {},
   "outputs": [
    {
     "data": {
      "text/plain": [
       "('101-629-0000048969',\n",
       " '{\"LG화학 관계자는 세계 최대 의결권 자문기관인 ISS를 비롯해 한국기업지배연구원 등 국내외 의결권 자문사들이 대부분 찬성한 사안인데 국민연금의 반대 의견에 대해 매우 아쉽게 생각한다 며 이번 분할은 배터리 사업을 세계 최고 에너지 솔루션 기업으로 육성해 주주가치와 기업가치를 높이려는 것으로 주총때까지 적극적으로 소통하겠다 고 말했다.\",\"LG화학은 27일 국민연금의 배터리 분할 안건 반대에 대해 국내외 의결권 자문사들이 대부분 찬성한 사안인데 아쉽게 생각한다 며 주총때까지 적극적으로 소통하겠다 고 말했다\",\"특히 해당 안건건에 대해 국민연금의 의결권 자문을 맡고 있는 한국기업지배구조원 세계 최대 의결권 자문사인 ISS 글래스루이스 대신지배구조연구소 등 국내외 주요 의결권 자문사들의 찬성 의견을 받았기 때문에 LG화학의 배터리 사업 분사는 큰 이변이 없는 한 유력한 상황이었다\"}',\n",
       " '{화학,자문,의결권,배터리,국민,연금,사업,반대,주주,기업}')"
      ]
     },
     "execution_count": 20,
     "metadata": {},
     "output_type": "execute_result"
    }
   ],
   "source": [
    "vectors"
   ]
  },
  {
   "cell_type": "code",
   "execution_count": null,
   "metadata": {},
   "outputs": [],
   "source": []
  }
 ],
 "metadata": {
  "kernelspec": {
   "display_name": "Python 3",
   "language": "python",
   "name": "python3"
  },
  "language_info": {
   "codemirror_mode": {
    "name": "ipython",
    "version": 3
   },
   "file_extension": ".py",
   "mimetype": "text/x-python",
   "name": "python",
   "nbconvert_exporter": "python",
   "pygments_lexer": "ipython3",
   "version": "3.8.5"
  }
 },
 "nbformat": 4,
 "nbformat_minor": 4
}
